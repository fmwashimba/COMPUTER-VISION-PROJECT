{
  "cells": [
    {
      "cell_type": "markdown",
      "metadata": {
        "id": "view-in-github",
        "colab_type": "text"
      },
      "source": [
        "<a href=\"https://colab.research.google.com/github/fmwashimba/COMPUTER-VISION-PROJECT/blob/main/Computer_vision_CNN_for_Breast_Cancer_Diagnosis.ipynb\" target=\"_parent\"><img src=\"https://colab.research.google.com/assets/colab-badge.svg\" alt=\"Open In Colab\"/></a>"
      ]
    },
    {
      "cell_type": "markdown",
      "source": [
        "### **Unleashing the Power of Convolutional Neural Networks for Breast Cancer Diagnosis**"
      ],
      "metadata": {
        "id": "QPbAAvivY_Dr"
      }
    },
    {
      "cell_type": "markdown",
      "source": [
        "Breast cancer is a widely prevalent form of cancer among women, with Invasive Ductal Carcinoma (IDC) being the most common subtype. \n",
        "\n",
        "Pathologists typically focus on the areas of the whole mount sample that contain the IDC to determine the aggressiveness of cancer.\n",
        "\n",
        " To enable automatic aggressiveness grading, one of the common pre-processing steps is to identify and delineate the exact regions of IDC within the whole mount slide.\n",
        "\n",
        "  Accurately categorizing the subtypes of breast cancer is a critical clinical task, and automated methods can help save time and reduce the risk of errors. \n",
        "  \n",
        "  Our project involved using a Convolutional Neural Network (CNN) implemented in Python to detect and classify IDC in breast cancer samples. "
      ],
      "metadata": {
        "id": "ge85ZePBY6hW"
      }
    },
    {
      "cell_type": "code",
      "execution_count": null,
      "metadata": {
        "id": "v-b2iXMm5wjr"
      },
      "outputs": [],
      "source": [
        "#loading of libraries\n",
        "# Data Manipulation and Visualisation\n",
        "import pandas as pd\n",
        "import numpy as np\n",
        "import matplotlib.pyplot as plt\n",
        "import seaborn as sns\n",
        "\n",
        "from sklearn.model_selection import train_test_split\n",
        "\n",
        "# Import a standardization library\n",
        "from sklearn.preprocessing import StandardScaler\n",
        "\n",
        "# Import an Multi-Layer Perceptron Classifier model estimator from Scikit-Learn's neural_network library\n",
        "from sklearn.neural_network import MLPClassifier\n",
        "\n",
        "from sklearn.metrics import classification_report,confusion_matrix"
      ]
    },
    {
      "cell_type": "code",
      "execution_count": null,
      "metadata": {
        "id": "neCjgB9E6i7w"
      },
      "outputs": [],
      "source": [
        "# to interact with the operating system\n",
        "import os\n",
        "import hashlib\n",
        "import cv2"
      ]
    },
    {
      "cell_type": "code",
      "execution_count": null,
      "metadata": {
        "id": "VrsvOPrF6kO3"
      },
      "outputs": [],
      "source": [
        "# Preprocessing data\n",
        "import tensorflow as tf\n",
        "from tensorflow import keras\n",
        "from keras.preprocessing import image\n",
        "from keras.layers import Dropout, Flatten, Dense, Conv2D, MaxPooling2D, BatchNormalization\n",
        "import pathlib\n"
      ]
    },
    {
      "cell_type": "code",
      "execution_count": null,
      "metadata": {
        "colab": {
          "base_uri": "https://localhost:8080/"
        },
        "id": "TBImTaILl6Yc",
        "outputId": "c5ea1e2e-6aee-464b-8a94-7a3e19bf1d31"
      },
      "outputs": [
        {
          "output_type": "stream",
          "name": "stdout",
          "text": [
            "Mounted at /content/drive\n"
          ]
        }
      ],
      "source": [
        "#Mounting the drive\n",
        "from google.colab import drive\n",
        "drive.mount('/content/drive')"
      ]
    },
    {
      "cell_type": "code",
      "execution_count": null,
      "metadata": {
        "colab": {
          "base_uri": "https://localhost:8080/"
        },
        "id": "n11mUb25R6lG",
        "outputId": "4c3c7943-1ee7-490f-f5d5-c33e678d8f4c"
      },
      "outputs": [
        {
          "output_type": "stream",
          "name": "stdout",
          "text": [
            "Drive already mounted at drive; to attempt to forcibly remount, call drive.mount(\"drive\", force_remount=True).\n"
          ]
        }
      ],
      "source": [
        "# Mount Drive\n",
        "# mount drive for reusability\n",
        "from google.colab import drive\n",
        "drive.mount(\"drive\")\n"
      ]
    },
    {
      "cell_type": "code",
      "execution_count": null,
      "metadata": {
        "id": "Z3tFRxY_zgCx",
        "colab": {
          "base_uri": "https://localhost:8080/"
        },
        "outputId": "5d2d0b32-fe26-40e5-a8a4-8e5c1fbd2686"
      },
      "outputs": [
        {
          "output_type": "stream",
          "name": "stdout",
          "text": [
            "Number of PNG files in 0: 15959\n",
            "Number of PNG files in 1: 5466\n"
          ]
        }
      ],
      "source": [
        "#looping through the subdirectories to get number of images in each subdirectory\n",
        "\n",
        "import os\n",
        "import imghdr\n",
        "\n",
        "parent_dir = \"/content/drive/MyDrive/miniprject\"\n",
        "subdir1 = \"0\"\n",
        "subdir2 = \"1\"\n",
        "\n",
        "for subdir in [subdir1, subdir2]:\n",
        "    subdir_path = os.path.join(parent_dir, subdir)\n",
        "    num_png_files = 0\n",
        "    for filename in os.listdir(subdir_path):\n",
        "        file_path = os.path.join(subdir_path, filename)\n",
        "        if imghdr.what(file_path) == \"png\":\n",
        "            with open(file_path, \"rb\") as f:\n",
        "                file_contents = f.read()\n",
        "                # counting the images\n",
        "            num_png_files += 1\n",
        "    print(\"Number of PNG files in {}: {}\".format(subdir, num_png_files))\n"
      ]
    },
    {
      "cell_type": "code",
      "source": [
        "from google.colab import drive\n",
        "drive.mount('/content/drive')"
      ],
      "metadata": {
        "colab": {
          "base_uri": "https://localhost:8080/"
        },
        "id": "_YevOg1F_-TZ",
        "outputId": "d3ce81a0-095b-4dde-8395-81275ca9beb2"
      },
      "execution_count": null,
      "outputs": [
        {
          "output_type": "stream",
          "name": "stdout",
          "text": [
            "Drive already mounted at /content/drive; to attempt to forcibly remount, call drive.mount(\"/content/drive\", force_remount=True).\n"
          ]
        }
      ]
    },
    {
      "cell_type": "code",
      "execution_count": null,
      "metadata": {
        "id": "Y-FJKUJVzf85",
        "colab": {
          "base_uri": "https://localhost:8080/",
          "height": 472
        },
        "outputId": "73d3bcef-aedc-4f03-f112-8cd3d738b245"
      },
      "outputs": [
        {
          "output_type": "display_data",
          "data": {
            "text/plain": [
              "<Figure size 640x480 with 1 Axes>"
            ],
            "image/png": "[encoded data removed]"
          },
          "metadata": {}
        }
      ],
      "source": [
        "#Visualisation of the imges in a bar graph\n",
        "import os\n",
        "import imghdr\n",
        "import matplotlib.pyplot as plt\n",
        "\n",
        "parent_dir = \"/content/drive/MyDrive/miniprject\"\n",
        "subdir1 = \"0\"\n",
        "subdir2 = \"1\"\n",
        "\n",
        "num_png_files1 = 0\n",
        "for filename in os.listdir(os.path.join(parent_dir, subdir1)):\n",
        "    file_path = os.path.join(parent_dir, subdir1, filename)\n",
        "    if imghdr.what(file_path) == \"png\":\n",
        "        with open(file_path, \"rb\") as f:\n",
        "            file_contents = f.read()\n",
        "            # couting the images in subdirectory 1\n",
        "        num_png_files1 += 1\n",
        "\n",
        "num_png_files2 = 0\n",
        "for filename in os.listdir(os.path.join(parent_dir, subdir2)):\n",
        "    file_path = os.path.join(parent_dir, subdir2, filename)\n",
        "    if imghdr.what(file_path) == \"png\":\n",
        "        with open(file_path, \"rb\") as f:\n",
        "            file_contents = f.read()\n",
        "            #counting images in the subdirectory 0\n",
        "        num_png_files2 += 1\n",
        "\n",
        "# Generate bar graph\n",
        "labels = [subdir1, subdir2]\n",
        "values = [num_png_files1, num_png_files2]\n",
        "plt.bar(labels, values)\n",
        "plt.title(\"Number of PNG files\")\n",
        "plt.xlabel(\"Subdirectory\")\n",
        "plt.ylabel(\"Number of files\")\n",
        "plt.show()\n"
      ]
    },
    {
      "cell_type": "code",
      "source": [
        "\n",
        "#checking for missing images, duplicate images or blank images\n",
        "import os\n",
        "import imghdr\n",
        "\n",
        "parent_dir = \"/content/drive/MyDrive/miniprject\"\n",
        "subdir1 = \"0\"\n",
        "subdir2 = \"1\"\n",
        "\n",
        "# Check for missing images and blank PNG files\n",
        "missing_files = 0\n",
        "blank_files = 0\n",
        "\n",
        "for subdir in [subdir1, subdir2]:\n",
        "    subdir_path = os.path.join(parent_dir, subdir)\n",
        "    num_png_files = 0\n",
        "    for filename in os.listdir(subdir_path):\n",
        "        file_path = os.path.join(subdir_path, filename)\n",
        "        if imghdr.what(file_path) == \"png\":\n",
        "            with open(file_path, \"rb\") as f:\n",
        "                # Check for blank PNG files\n",
        "                if len(file_contents) == 0:\n",
        "                    print(\"Blank PNG file found:\", file_path)\n",
        "                    blank_files += 1\n",
        "            num_png_files += 1\n",
        "        else:\n",
        "            # Check for missing images\n",
        "            print(\"File is not a PNG image:\", file_path)\n",
        "            missing_files += 1\n",
        "    print(\"Number of PNG files in {}: {}\".format(subdir, num_png_files))\n",
        "\n",
        "# Check for duplicates\n",
        "duplicates_found = 0\n",
        "filenames_seen = set()\n",
        "for subdir in [subdir1, subdir2]:\n",
        "    subdir_path = os.path.join(parent_dir, subdir)\n",
        "    for filename in os.listdir(subdir_path):\n",
        "        if filename in filenames_seen:\n",
        "            print(\"Duplicate file found:\", os.path.join(subdir_path, filename))\n",
        "            duplicates_found += 1\n",
        "        else:\n",
        "            filenames_seen.add(filename)\n",
        "\n",
        "if missing_files == 0:\n",
        "    print(\"No missing files found.\")\n",
        "else:\n",
        "    print(\"Number of missing files found:\", missing_files)\n",
        "\n",
        "if blank_files == 0:\n",
        "    print(\"No blank files found.\")\n",
        "else:\n",
        "    print(\"Number of blank files found:\", blank_files)\n",
        "\n",
        "if duplicates_found == 0:\n",
        "    print(\"No duplicates found.\")\n",
        "else:\n",
        "    print(\"Number of duplicates found:\", duplicates_found)"
      ],
      "metadata": {
        "id": "E2ekPPBFL8TY",
        "colab": {
          "base_uri": "https://localhost:8080/"
        },
        "outputId": "cc28b9fb-71ad-45f3-9b11-622b2d6dcac4"
      },
      "execution_count": null,
      "outputs": [
        {
          "output_type": "stream",
          "name": "stdout",
          "text": [
            "Number of PNG files in 0: 15959\n",
            "Number of PNG files in 1: 5466\n",
            "No missing files found.\n",
            "No blank files found.\n",
            "No duplicates found.\n"
          ]
        }
      ]
    },
    {
      "cell_type": "code",
      "source": [
        "#Normalization\n",
        "import os\n",
        "import imghdr\n",
        "import numpy as np\n",
        "\n",
        "parent_dir = \"/content/drive/MyDrive/miniprject\"\n",
        "subdir1 = \"0\"\n",
        "subdir2 = \"1\"\n",
        "\n",
        "sizes = []\n",
        "max_pixels = []\n",
        "min_pixels = []\n",
        "\n",
        "# Check for missing images and blank PNG files\n",
        "for subdir in [subdir1, subdir2]:\n",
        "    subdir_path = os.path.join(parent_dir, subdir)\n",
        "    for filename in os.listdir(subdir_path):\n",
        "        file_path = os.path.join(subdir_path, filename)\n",
        "        if imghdr.what(file_path) == \"png\":\n",
        "            with open(file_path, \"rb\") as f:\n",
        "                file_contents = f.read()\n",
        "                # Check for blank PNG files\n",
        "                if len(file_contents) == 0:\n",
        "                    print(\"Blank PNG file found:\", file_path)\n",
        "                else:\n",
        "                    # Get image size and pixel values\n",
        "                    img_array = np.array(list(file_contents))\n",
        "                    img_size = len(file_contents)\n",
        "                    img_max = np.max(img_array)\n",
        "                    img_min = np.min(img_array)\n",
        "                    sizes.append(img_size)\n",
        "                    max_pixels.append(img_max)\n",
        "                    min_pixels.append(img_min)\n",
        "        else:\n",
        "            # Check for missing images\n",
        "            print(\"File is not a PNG image:\", file_path)\n",
        "\n",
        "# Calculate average image size and pixel values\n",
        "avg_size = np.mean(sizes)\n",
        "avg_max_pixel = np.mean(max_pixels)\n",
        "avg_min_pixel = np.mean(min_pixels)\n",
        "\n",
        "print(\"Average image size:\", avg_size)\n",
        "print(\"Average max pixel value:\", avg_max_pixel)\n",
        "print(\"Average min pixel value:\", avg_min_pixel)\n"
      ],
      "metadata": {
        "id": "RiUQSp04QCLz",
        "colab": {
          "base_uri": "https://localhost:8080/"
        },
        "outputId": "485ada35-6ff8-42bd-c143-db47260d05ba"
      },
      "execution_count": null,
      "outputs": [
        {
          "output_type": "stream",
          "name": "stdout",
          "text": [
            "Average image size: 5896.382217036173\n",
            "Average max pixel value: 254.9996732788798\n",
            "Average min pixel value: 0.0\n"
          ]
        }
      ]
    },
    {
      "cell_type": "code",
      "source": [
        "#DATA AUGMENTATION + NORMALIZATION \n",
        "#resizing, cropping, normalizing (pixel are at same range)\n",
        "import torch\n",
        "import torchvision.transforms as transforms\n",
        "import torchvision.datasets as datasets\n",
        "\n",
        "# Define the root directory of the dataset\n",
        "root_dir = \"/content/drive/MyDrive/miniprject\"\n",
        "\n",
        "# Define the transformations to apply to each image\n",
        "transform = transforms.Compose([\n",
        "    transforms.Resize(256),\n",
        "    transforms.CenterCrop(224),\n",
        "    transforms.ToTensor(),\n",
        "    transforms.Normalize(mean=[0.485, 0.456, 0.406], std=[0.229, 0.224, 0.225])\n",
        "])\n",
        "\n",
        "# Create the ImageFolder dataset object\n",
        "dataset = datasets.ImageFolder(root=root_dir, transform=transform)\n"
      ],
      "metadata": {
        "id": "V2z_lbvIQ0Fz"
      },
      "execution_count": null,
      "outputs": []
    },
    {
      "cell_type": "code",
      "source": [
        "# mean and standard deviaetion\n",
        "\n",
        "import torchvision.transforms as transforms\n",
        "\n",
        "# Define the mean and standard deviation of the dataset\n",
        "mean = [0.485, 0.456, 0.406]\n",
        "std = [0.229, 0.224, 0.225]\n",
        "\n",
        "# Define the image transformation sequence\n",
        "transform = transforms.Compose([\n",
        "    transforms.Resize(256),\n",
        "    transforms.CenterCrop(224),\n",
        "    transforms.ToTensor(),\n",
        "    transforms.Normalize(mean=mean, std=std)\n",
        "])\n"
      ],
      "metadata": {
        "id": "wzT38BubRiLB"
      },
      "execution_count": null,
      "outputs": []
    },
    {
      "cell_type": "code",
      "source": [
        "import torchvision.datasets as datasets\n",
        "\n",
        "# Define the path to the dataset\n",
        "dataset_path = \"/content/drive/MyDrive/miniprject\"\n",
        "\n",
        "# Define the mean and standard deviation of the dataset\n",
        "mean = [0.485, 0.456, 0.406]\n",
        "std = [0.229, 0.224, 0.225]\n",
        "\n",
        "# Define the image transformation sequence\n",
        "transform = transforms.Compose([\n",
        "    transforms.Resize(256),\n",
        "    transforms.CenterCrop(224),\n",
        "    transforms.ToTensor(),\n",
        "    transforms.Normalize(mean=mean, std=std)\n",
        "])\n",
        "\n",
        "# Create the dataset object\n",
        "dataset = datasets.ImageFolder(root=dataset_path, transform=transform)\n"
      ],
      "metadata": {
        "id": "SLyrI8meRmGZ"
      },
      "execution_count": null,
      "outputs": []
    },
    {
      "cell_type": "code",
      "source": [
        "#changeing the list to numpy array.\n",
        "import os\n",
        "from PIL import Image\n",
        "import numpy as np\n",
        "\n",
        "parent_dir = '/content/drive/MyDrive/miniprject'\n",
        "subdirs = ['0', '1']\n",
        "\n",
        "images = []  # A list to hold the numpy arrays of the images\n",
        "for subdir in subdirs:\n",
        "    subdir_path = os.path.join(parent_dir, subdir)\n",
        "    for filename in os.listdir(subdir_path):\n",
        "        file_path = os.path.join(subdir_path, filename)\n",
        "        if filename.endswith('.png'):  # Check that the file is a PNG file\n",
        "            # Load the image file into a PIL Image object\n",
        "            img = Image.open(file_path)\n",
        "\n",
        "            # Convert the PIL Image object to a numpy array\n",
        "            img_array = np.array(img)\n",
        "\n",
        "            # Append the numpy array to the list of images\n",
        "            images.append(img_array)\n",
        "\n",
        "# Print the shape of the first image in the list\n",
        "print(images[0].shape)\n"
      ],
      "metadata": {
        "id": "RW2QMh0US31p",
        "colab": {
          "base_uri": "https://localhost:8080/"
        },
        "outputId": "db961d3f-3f45-4c4c-caea-956c3f157872"
      },
      "execution_count": null,
      "outputs": [
        {
          "output_type": "stream",
          "name": "stdout",
          "text": [
            "(50, 50, 3)\n"
          ]
        }
      ]
    },
    {
      "cell_type": "code",
      "source": [
        "#Importing imagedatagenerator\n",
        "from keras.preprocessing.image import ImageDataGenerator\n",
        "\n",
        "# Define data generator with normalization\n",
        "data_generator = ImageDataGenerator(\n",
        "    rescale=1./255\n",
        ")\n"
      ],
      "metadata": {
        "id": "FoZxUuyqTH-X"
      },
      "execution_count": null,
      "outputs": []
    },
    {
      "cell_type": "code",
      "source": [
        "#importing libraries\n",
        "import pandas as pd\n",
        "import os\n",
        "from PIL import Image\n",
        "from sklearn.model_selection import train_test_split\n",
        "\n",
        "data_dir = '/content/drive/MyDrive/miniprject'\n",
        "\n",
        "# Create lists of image paths and their corresponding labels\n",
        "image_paths = []\n",
        "labels = []\n",
        "for subdir in ['0', '1']:\n",
        "    subdir_path = os.path.join(data_dir, subdir)\n",
        "    for filename in os.listdir(subdir_path):\n",
        "        image_path = os.path.join(subdir_path, filename)\n",
        "        image_paths.append(image_path)\n",
        "        labels.append(subdir)\n",
        "\n",
        "# Split data into train and test sets\n",
        "train_image_paths, test_image_paths, train_labels, test_labels = train_test_split(\n",
        "    image_paths, labels, test_size=0.2, random_state=42, stratify=labels)\n",
        "\n",
        "# Create a pandas dataframe to store the data\n",
        "train_df = pd.DataFrame({'image_path': train_image_paths, 'label': train_labels})\n",
        "test_df = pd.DataFrame({'image_path': test_image_paths, 'label': test_labels})\n",
        "\n",
        "# Print paths to train and test sets\n",
        "print(\"Training set path:\", os.path.dirname(train_df['image_path'][0]))\n",
        "print(\"Testing set path:\", os.path.dirname(test_df['image_path'][0]))\n",
        "\n",
        "# Print number of files in train and test sets\n",
        "print(\"Number of files in training set:\", len(train_df))\n",
        "print(\"Number of files in testing set:\", len(test_df))\n"
      ],
      "metadata": {
        "id": "1N3A3FIJUH9p",
        "colab": {
          "base_uri": "https://localhost:8080/"
        },
        "outputId": "dc493335-df10-4f27-9e4d-982e9c14f84b"
      },
      "execution_count": null,
      "outputs": [
        {
          "output_type": "stream",
          "name": "stdout",
          "text": [
            "Training set path: /content/drive/MyDrive/miniprject/1\n",
            "Testing set path: /content/drive/MyDrive/miniprject/0\n",
            "Number of files in training set: 17140\n",
            "Number of files in testing set: 4285\n"
          ]
        }
      ]
    },
    {
      "cell_type": "code",
      "source": [
        "#ensure only training set is used for training\n",
        "\n",
        "train_datagen = ImageDataGenerator(rescale=1./255, validation_split=0.0)  # Set validation_split to 0.0 for training set\n",
        "train_generator = train_datagen.flow_from_dataframe(\n",
        "    dataframe=train_df,\n",
        "    directory=data_dir,\n",
        "    x_col='image_path',\n",
        "    y_col='label',\n",
        "    target_size=(256, 256),\n",
        "    batch_size=16,\n",
        "    class_mode='binary',\n",
        "    subset='training',  # Set subset to 'training' to get only the training set\n",
        "    shuffle=True,\n",
        ")\n"
      ],
      "metadata": {
        "id": "RUHP4Ar-PDy1",
        "colab": {
          "base_uri": "https://localhost:8080/"
        },
        "outputId": "5b5439be-87ae-49de-a6ba-bcf305a1a6db"
      },
      "execution_count": null,
      "outputs": [
        {
          "output_type": "stream",
          "name": "stdout",
          "text": [
            "Found 17140 validated image filenames belonging to 2 classes.\n"
          ]
        }
      ]
    },
    {
      "cell_type": "code",
      "source": [
        "#AUGMENTATION: resized, flipped, rotated at 15 , colors,\n",
        "import torchvision.transforms as transforms\n",
        "\n",
        "# Define the image transformation sequence for data augmentation\n",
        "train_transform = transforms.Compose([\n",
        "    transforms.RandomResizedCrop(224),\n",
        "    transforms.RandomHorizontalFlip(),\n",
        "    transforms.RandomRotation(degrees=15),\n",
        "    transforms.ColorJitter(brightness=0.1, contrast=0.1, saturation=0.1, hue=0.1),\n",
        "    transforms.RandomGrayscale(p=0.1),\n",
        "    transforms.ToTensor(),\n",
        "    transforms.Normalize(mean=[0.485, 0.456, 0.406], std=[0.229, 0.224, 0.225])\n",
        "])\n"
      ],
      "metadata": {
        "id": "neNMPcesRszq"
      },
      "execution_count": null,
      "outputs": []
    },
    {
      "cell_type": "code",
      "source": [
        "#importing the imagedatagenerator\n",
        "from tensorflow.keras.preprocessing.image import ImageDataGenerator\n"
      ],
      "metadata": {
        "id": "s7Z6GfRCYgkJ"
      },
      "execution_count": null,
      "outputs": []
    },
    {
      "cell_type": "code",
      "source": [
        "\n",
        "#preprocessing: checking the ratio of test and train\n",
        "image_generator = ImageDataGenerator(preprocessing_function=tf.keras.applications.resnet50.preprocess_input, validation_split=0.2)\n",
        "\n",
        "train_data_gen = image_generator.flow_from_directory(batch_size=32,  directory=data_dir, shuffle=True, target_size=(256, 256), class_mode='binary', subset='training')\n",
        "\n",
        "val_data_gen = image_generator.flow_from_directory(batch_size=32,  directory=data_dir, shuffle=True, target_size=(256, 256), class_mode='binary', subset='validation')\n"
      ],
      "metadata": {
        "id": "JpEORbrMuLCt",
        "colab": {
          "base_uri": "https://localhost:8080/"
        },
        "outputId": "63568d8a-b098-4e68-ed93-d79f6fd7e403"
      },
      "execution_count": null,
      "outputs": [
        {
          "output_type": "stream",
          "name": "stdout",
          "text": [
            "Found 17141 images belonging to 2 classes.\n",
            "Found 4284 images belonging to 2 classes.\n"
          ]
        }
      ]
    },
    {
      "cell_type": "markdown",
      "source": [
        "In Convolutional Neural Networks (CNNs), Sequential is a class from the Keras API that allows you to build a linear stack of layers in your model.\n",
        "\n",
        "The Sequential model is a straightforward way to create a deep learning neural network. You simply create an instance of the model and add layers in the order you want them executed. The output of each layer is fed as input to the next layer in the sequence."
      ],
      "metadata": {
        "id": "Isd8kKe_TzUz"
      }
    },
    {
      "cell_type": "code",
      "source": [
        "#importing the necessary \n",
        "#sequential \n",
        "from tensorflow.keras.preprocessing import image\n",
        "from tensorflow.keras.models import Sequential\n",
        "from tensorflow.keras import layers\n",
        "\n",
        "\n",
        "img_height= 256\n",
        "img_width= 256\n",
        "class_names = ['0', '1']\n",
        "\n",
        "# Define the model\n",
        "\n",
        "model = Sequential([\n",
        "    layers.experimental.preprocessing.Rescaling(1./255, input_shape=(img_height, img_width, 3)),\n",
        "    layers.Conv2D(16, 3, padding='same', activation='relu'),\n",
        "    layers.MaxPooling2D(),\n",
        "    layers.Conv2D(32, 3, padding='same', activation='relu'),\n",
        "    layers.MaxPooling2D(),\n",
        "    layers.Conv2D(64, 3, padding='same', activation='relu'),\n",
        "    layers.MaxPooling2D(),\n",
        "    layers.Flatten(),\n",
        "    layers.Dense(128, activation='relu'),\n",
        "    layers.Dense(len(class_names))\n",
        "])\n",
        "\n",
        "# Compile the model\n",
        "model.compile(optimizer='adam',\n",
        "            loss=tf.keras.losses.SparseCategoricalCrossentropy(from_logits=True),\n",
        "              metrics=['accuracy'])\n",
        "\n",
        "# Train the model\n",
        "history = model.fit(train_data_gen, epochs=1, validation_data=val_data_gen)\n"
      ],
      "metadata": {
        "id": "YQmF6McDf1Xp",
        "colab": {
          "base_uri": "https://localhost:8080/"
        },
        "outputId": "8fb3dfa3-99a0-4ca4-cfa5-1346a4d1b42d"
      },
      "execution_count": null,
      "outputs": [
        {
          "output_type": "stream",
          "name": "stdout",
          "text": [
            "536/536 [==============================] - 1612s 3s/step - loss: 0.3092 - accuracy: 0.8727 - val_loss: 0.3968 - val_accuracy: 0.8112\n"
          ]
        }
      ]
    },
    {
      "cell_type": "code",
      "source": [
        "from keras import regularizers\n",
        "\n",
        "model.add(Dense(64, input_dim=100, activation='relu', kernel_regularizer=regularizers.l2(0.01)))"
      ],
      "metadata": {
        "id": "0HvwJyLnYKAv"
      },
      "execution_count": null,
      "outputs": []
    },
    {
      "cell_type": "code",
      "source": [
        "from sklearn.metrics import f1_score\n",
        "from keras.utils import to_categorical\n",
        "from sklearn.preprocessing import label_binarize\n",
        "\n",
        "\n",
        "# Make predictions on the validation set\n",
        "val_predictions = model.predict(val_data_gen)\n",
        "\n",
        "# Convert binary labels to multilabel indicator format\n",
        "val_labels = label_binarize(val_data_gen.classes, classes=[0, 1])\n",
        "\n",
        "# Convert probabilities to binary predictions (0 or 1)\n",
        "val_predictions_binary = (val_predictions >= 0.5).astype(int)\n",
        "\n",
        "from sklearn.metrics import f1_score\n",
        "\n",
        "# Convert predicted probabilities to binary predictions\n",
        "val_predictions_binary = np.argmax(val_predictions, axis=-1)\n",
        "\n",
        "# Calculate F1 score for each class\n",
        "f1_scores = f1_score(val_data_gen.classes, val_predictions_binary, labels=[0, 1], average=None)\n",
        "\n",
        "# Print F1 score for each class\n",
        "print(\"F1 Score for Class 0:\", f1_scores[0])\n",
        "print(\"F1 Score for Class 1:\", f1_scores[1])\n",
        "\n",
        "# Calculate f1 score\n",
        "f1 = f1_score(val_labels, val_predictions_binary, average='weighted')\n",
        "\n",
        "print(\"F1 Score:\", f1)\n",
        "\n",
        "\n",
        "\n"
      ],
      "metadata": {
        "id": "9YC1SSREOJc2"
      },
      "execution_count": null,
      "outputs": []
    },
    {
      "cell_type": "code",
      "source": [
        "from sklearn.metrics import f1_score\n",
        "from keras.utils import to_categorical\n",
        "\n",
        "# Make predictions on the validation set\n",
        "val_predictions = model.predict(val_data_gen)\n",
        "\n",
        "# One-hot encode the true labels\n",
        "val_true_labels = to_categorical(val_data_gen.classes, num_classes=2)\n",
        "\n",
        "# Convert predicted probabilities to binary labels\n",
        "val_predictions_binary = (val_predictions > 0.5).astype(int)\n",
        "\n",
        "# Convert multilabel-indicator format to binary format\n",
        "val_true_labels_binary = val_true_labels.argmax(axis=1)\n",
        "\n",
        "\n",
        "# Calculate F1 score for each class\n",
        "f1_scores = f1_score(val_data_gen.classes, val_predictions_binary, labels=[0, 1], average=None)\n",
        "\n",
        "# Print F1 score for each class\n",
        "print(\"F1 Score for Class 0:\", f1_scores[0])\n",
        "print(\"F1 Score for Class 1:\", f1_scores[1])\n",
        "\n",
        "# Calculate weighted F1 score\n",
        "f1_weighted = f1_score(val_true_labels_binary, val_predictions_binary, average='weighted')\n",
        "\n",
        "# Print weighted F1 score\n",
        "print(\"Weighted F1 Score:\", f1_weighted)\n",
        "\n",
        "\n"
      ],
      "metadata": {
        "colab": {
          "base_uri": "https://localhost:8080/",
          "height": 397
        },
        "id": "w3w1XCHlQC8x",
        "outputId": "b4bedec2-f566-485b-b595-28e07c6bb19c"
      },
      "execution_count": null,
      "outputs": [
        {
          "output_type": "stream",
          "name": "stdout",
          "text": [
            "134/134 [==============================] - 132s 986ms/step\n"
          ]
        },
        {
          "output_type": "error",
          "ename": "ValueError",
          "evalue": "ignored",
          "traceback": [
            "\u001b[0;31m---------------------------------------------------------------------------\u001b[0m",
            "\u001b[0;31mValueError\u001b[0m                                Traceback (most recent call last)",
            "\u001b[0;32m<ipython-input-46-0ef34eb9b4d2>\u001b[0m in \u001b[0;36m<cell line: 18>\u001b[0;34m()\u001b[0m\n\u001b[1;32m     16\u001b[0m \u001b[0;34m\u001b[0m\u001b[0m\n\u001b[1;32m     17\u001b[0m \u001b[0;31m# Calculate F1 score for each class\u001b[0m\u001b[0;34m\u001b[0m\u001b[0;34m\u001b[0m\u001b[0m\n\u001b[0;32m---> 18\u001b[0;31m \u001b[0mf1_scores\u001b[0m \u001b[0;34m=\u001b[0m \u001b[0mf1_score\u001b[0m\u001b[0;34m(\u001b[0m\u001b[0mval_data_gen\u001b[0m\u001b[0;34m.\u001b[0m\u001b[0mclasses\u001b[0m\u001b[0;34m,\u001b[0m \u001b[0mval_predictions_binary\u001b[0m\u001b[0;34m,\u001b[0m \u001b[0mlabels\u001b[0m\u001b[0;34m=\u001b[0m\u001b[0;34m[\u001b[0m\u001b[0;36m0\u001b[0m\u001b[0;34m,\u001b[0m \u001b[0;36m1\u001b[0m\u001b[0;34m]\u001b[0m\u001b[0;34m,\u001b[0m \u001b[0maverage\u001b[0m\u001b[0;34m=\u001b[0m\u001b[0;32mNone\u001b[0m\u001b[0;34m)\u001b[0m\u001b[0;34m\u001b[0m\u001b[0;34m\u001b[0m\u001b[0m\n\u001b[0m\u001b[1;32m     19\u001b[0m \u001b[0;34m\u001b[0m\u001b[0m\n\u001b[1;32m     20\u001b[0m \u001b[0;31m# Print F1 score for each class\u001b[0m\u001b[0;34m\u001b[0m\u001b[0;34m\u001b[0m\u001b[0m\n",
            "\u001b[0;32m/usr/local/lib/python3.9/dist-packages/sklearn/metrics/_classification.py\u001b[0m in \u001b[0;36mf1_score\u001b[0;34m(y_true, y_pred, labels, pos_label, average, sample_weight, zero_division)\u001b[0m\n\u001b[1;32m   1144\u001b[0m     \u001b[0marray\u001b[0m\u001b[0;34m(\u001b[0m\u001b[0;34m[\u001b[0m\u001b[0;36m0.66666667\u001b[0m\u001b[0;34m,\u001b[0m \u001b[0;36m1.\u001b[0m        \u001b[0;34m,\u001b[0m \u001b[0;36m0.66666667\u001b[0m\u001b[0;34m]\u001b[0m\u001b[0;34m)\u001b[0m\u001b[0;34m\u001b[0m\u001b[0;34m\u001b[0m\u001b[0m\n\u001b[1;32m   1145\u001b[0m     \"\"\"\n\u001b[0;32m-> 1146\u001b[0;31m     return fbeta_score(\n\u001b[0m\u001b[1;32m   1147\u001b[0m         \u001b[0my_true\u001b[0m\u001b[0;34m,\u001b[0m\u001b[0;34m\u001b[0m\u001b[0;34m\u001b[0m\u001b[0m\n\u001b[1;32m   1148\u001b[0m         \u001b[0my_pred\u001b[0m\u001b[0;34m,\u001b[0m\u001b[0;34m\u001b[0m\u001b[0;34m\u001b[0m\u001b[0m\n",
            "\u001b[0;32m/usr/local/lib/python3.9/dist-packages/sklearn/metrics/_classification.py\u001b[0m in \u001b[0;36mfbeta_score\u001b[0;34m(y_true, y_pred, beta, labels, pos_label, average, sample_weight, zero_division)\u001b[0m\n\u001b[1;32m   1285\u001b[0m     \"\"\"\n\u001b[1;32m   1286\u001b[0m \u001b[0;34m\u001b[0m\u001b[0m\n\u001b[0;32m-> 1287\u001b[0;31m     _, _, f, _ = precision_recall_fscore_support(\n\u001b[0m\u001b[1;32m   1288\u001b[0m         \u001b[0my_true\u001b[0m\u001b[0;34m,\u001b[0m\u001b[0;34m\u001b[0m\u001b[0;34m\u001b[0m\u001b[0m\n\u001b[1;32m   1289\u001b[0m         \u001b[0my_pred\u001b[0m\u001b[0;34m,\u001b[0m\u001b[0;34m\u001b[0m\u001b[0;34m\u001b[0m\u001b[0m\n",
            "\u001b[0;32m/usr/local/lib/python3.9/dist-packages/sklearn/metrics/_classification.py\u001b[0m in \u001b[0;36mprecision_recall_fscore_support\u001b[0;34m(y_true, y_pred, beta, labels, pos_label, average, warn_for, sample_weight, zero_division)\u001b[0m\n\u001b[1;32m   1571\u001b[0m     \u001b[0;32mif\u001b[0m \u001b[0mbeta\u001b[0m \u001b[0;34m<\u001b[0m \u001b[0;36m0\u001b[0m\u001b[0;34m:\u001b[0m\u001b[0;34m\u001b[0m\u001b[0;34m\u001b[0m\u001b[0m\n\u001b[1;32m   1572\u001b[0m         \u001b[0;32mraise\u001b[0m \u001b[0mValueError\u001b[0m\u001b[0;34m(\u001b[0m\u001b[0;34m\"beta should be >=0 in the F-beta score\"\u001b[0m\u001b[0;34m)\u001b[0m\u001b[0;34m\u001b[0m\u001b[0;34m\u001b[0m\u001b[0m\n\u001b[0;32m-> 1573\u001b[0;31m     \u001b[0mlabels\u001b[0m \u001b[0;34m=\u001b[0m \u001b[0m_check_set_wise_labels\u001b[0m\u001b[0;34m(\u001b[0m\u001b[0my_true\u001b[0m\u001b[0;34m,\u001b[0m \u001b[0my_pred\u001b[0m\u001b[0;34m,\u001b[0m \u001b[0maverage\u001b[0m\u001b[0;34m,\u001b[0m \u001b[0mlabels\u001b[0m\u001b[0;34m,\u001b[0m \u001b[0mpos_label\u001b[0m\u001b[0;34m)\u001b[0m\u001b[0;34m\u001b[0m\u001b[0;34m\u001b[0m\u001b[0m\n\u001b[0m\u001b[1;32m   1574\u001b[0m \u001b[0;34m\u001b[0m\u001b[0m\n\u001b[1;32m   1575\u001b[0m     \u001b[0;31m# Calculate tp_sum, pred_sum, true_sum ###\u001b[0m\u001b[0;34m\u001b[0m\u001b[0;34m\u001b[0m\u001b[0m\n",
            "\u001b[0;32m/usr/local/lib/python3.9/dist-packages/sklearn/metrics/_classification.py\u001b[0m in \u001b[0;36m_check_set_wise_labels\u001b[0;34m(y_true, y_pred, average, labels, pos_label)\u001b[0m\n\u001b[1;32m   1372\u001b[0m         \u001b[0;32mraise\u001b[0m \u001b[0mValueError\u001b[0m\u001b[0;34m(\u001b[0m\u001b[0;34m\"average has to be one of \"\u001b[0m \u001b[0;34m+\u001b[0m \u001b[0mstr\u001b[0m\u001b[0;34m(\u001b[0m\u001b[0maverage_options\u001b[0m\u001b[0;34m)\u001b[0m\u001b[0;34m)\u001b[0m\u001b[0;34m\u001b[0m\u001b[0;34m\u001b[0m\u001b[0m\n\u001b[1;32m   1373\u001b[0m \u001b[0;34m\u001b[0m\u001b[0m\n\u001b[0;32m-> 1374\u001b[0;31m     \u001b[0my_type\u001b[0m\u001b[0;34m,\u001b[0m \u001b[0my_true\u001b[0m\u001b[0;34m,\u001b[0m \u001b[0my_pred\u001b[0m \u001b[0;34m=\u001b[0m \u001b[0m_check_targets\u001b[0m\u001b[0;34m(\u001b[0m\u001b[0my_true\u001b[0m\u001b[0;34m,\u001b[0m \u001b[0my_pred\u001b[0m\u001b[0;34m)\u001b[0m\u001b[0;34m\u001b[0m\u001b[0;34m\u001b[0m\u001b[0m\n\u001b[0m\u001b[1;32m   1375\u001b[0m     \u001b[0;31m# Convert to Python primitive type to avoid NumPy type / Python str\u001b[0m\u001b[0;34m\u001b[0m\u001b[0;34m\u001b[0m\u001b[0m\n\u001b[1;32m   1376\u001b[0m     \u001b[0;31m# comparison. See https://github.com/numpy/numpy/issues/6784\u001b[0m\u001b[0;34m\u001b[0m\u001b[0;34m\u001b[0m\u001b[0m\n",
            "\u001b[0;32m/usr/local/lib/python3.9/dist-packages/sklearn/metrics/_classification.py\u001b[0m in \u001b[0;36m_check_targets\u001b[0;34m(y_true, y_pred)\u001b[0m\n\u001b[1;32m     93\u001b[0m \u001b[0;34m\u001b[0m\u001b[0m\n\u001b[1;32m     94\u001b[0m     \u001b[0;32mif\u001b[0m \u001b[0mlen\u001b[0m\u001b[0;34m(\u001b[0m\u001b[0my_type\u001b[0m\u001b[0;34m)\u001b[0m \u001b[0;34m>\u001b[0m \u001b[0;36m1\u001b[0m\u001b[0;34m:\u001b[0m\u001b[0;34m\u001b[0m\u001b[0;34m\u001b[0m\u001b[0m\n\u001b[0;32m---> 95\u001b[0;31m         raise ValueError(\n\u001b[0m\u001b[1;32m     96\u001b[0m             \"Classification metrics can't handle a mix of {0} and {1} targets\".format(\n\u001b[1;32m     97\u001b[0m                 \u001b[0mtype_true\u001b[0m\u001b[0;34m,\u001b[0m \u001b[0mtype_pred\u001b[0m\u001b[0;34m\u001b[0m\u001b[0;34m\u001b[0m\u001b[0m\n",
            "\u001b[0;31mValueError\u001b[0m: Classification metrics can't handle a mix of binary and multilabel-indicator targets"
          ]
        }
      ]
    },
    {
      "cell_type": "code",
      "source": [
        "model.save('/content/drive/MyDrive/model.h5')\n"
      ],
      "metadata": {
        "id": "jqM3O6Nz1YTk"
      },
      "execution_count": null,
      "outputs": []
    },
    {
      "cell_type": "code",
      "source": [
        "import matplotlib.pyplot as plt\n",
        "from sklearn.metrics import roc_curve, auc\n",
        "\n",
        "# Make predictions on the validation set\n",
        "val_predictions = model.predict(val_data_gen)\n",
        "\n",
        "# Get the true labels of the validation set\n",
        "y_true = val_data_gen.classes\n",
        "\n",
        "# Calculate the false positive rate and true positive rate for different probability thresholds\n",
        "fpr, tpr, thresholds = roc_curve(y_true, val_predictions[:, 1])\n",
        "\n",
        "# Calculate the area under the ROC curve (AUC)\n",
        "roc_auc = auc(fpr, tpr)\n",
        "\n",
        "# Plot the ROC curve\n",
        "plt.plot(fpr, tpr, label='ROC curve (area = %0.2f)' % roc_auc)\n",
        "plt.plot([0, 1], [0, 1], 'k--')\n",
        "plt.xlim([0.0, 1.0])\n",
        "plt.ylim([0.0, 1.05])\n",
        "plt.xlabel('False Positive Rate')\n",
        "plt.ylabel('True Positive Rate')\n",
        "plt.title('Receiver Operating Characteristic (ROC)')\n",
        "plt.legend(loc=\"lower right\")\n",
        "plt.show()\n"
      ],
      "metadata": {
        "id": "NCCRxHy5fNHm",
        "colab": {
          "base_uri": "https://localhost:8080/",
          "height": 489
        },
        "outputId": "77428806-e939-483f-e912-933aeb2eb936"
      },
      "execution_count": null,
      "outputs": [
        {
          "output_type": "stream",
          "name": "stdout",
          "text": [
            "134/134 [==============================] - 121s 906ms/step\n"
          ]
        },
        {
          "output_type": "display_data",
          "data": {
            "text/plain": [
              "<Figure size 640x480 with 1 Axes>"
            ],
            "image/png": "[encoded data removed]"
          },
          "metadata": {}
        }
      ]
    },
    {
      "cell_type": "code",
      "source": [
        "import numpy as np\n",
        "from tensorflow.keras.preprocessing.image import load_img, img_to_array\n",
        "from tensorflow.keras.models import load_model\n",
        "\n",
        "# Load your saved model\n",
        "model = load_model('/content/drive/MyDrive/model.h5')\n",
        "\n",
        "# Load the image\n",
        "img_path = '/content/drive/MyDrive/1nop.png'\n",
        "img = load_img(img_path, target_size=(256, 256))  # Resize the image to the same size you used for training\n",
        "x = img_to_array(img)  # Convert the image to a numpy array\n",
        "x = np.expand_dims(x, axis=0)  # Add an extra dimension to represent the batch\n",
        "\n",
        "# Make a prediction\n",
        "# Make a prediction\n",
        "pred = model.predict(x, batch_size=0)\n",
        "if pred.any()>=0.5:\n",
        "    print('Breast cancer is not detected.')\n",
        "else:\n",
        "    print('Breast cancer is  detected.')\n",
        "\n",
        "\n"
      ],
      "metadata": {
        "id": "PyvfkeQ4BZgA",
        "colab": {
          "base_uri": "https://localhost:8080/"
        },
        "outputId": "c485c0cd-26e4-4f14-8a6a-1997b97ca208"
      },
      "execution_count": null,
      "outputs": [
        {
          "output_type": "stream",
          "name": "stdout",
          "text": [
            "1/1 [==============================] - 0s 254ms/step\n",
            "Breast cancer is not detected.\n"
          ]
        }
      ]
    }
  ],
  "metadata": {
    "colab": {
      "provenance": [],
      "include_colab_link": true
    },
    "kernelspec": {
      "display_name": "Python 3",
      "name": "python3"
    },
    "language_info": {
      "name": "python"
    }
  },
  "nbformat": 4,
  "nbformat_minor": 0
}